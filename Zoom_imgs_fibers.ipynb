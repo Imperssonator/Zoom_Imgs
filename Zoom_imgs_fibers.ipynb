{
 "cells": [
  {
   "cell_type": "markdown",
   "metadata": {
    "deletable": true,
    "editable": true
   },
   "source": [
    "# FiberSpace\n",
    "\n",
    "An interactive plotting environment for visualizing structural parameters"
   ]
  },
  {
   "cell_type": "code",
   "execution_count": 1,
   "metadata": {
    "collapsed": false,
    "deletable": true,
    "editable": true
   },
   "outputs": [
    {
     "ename": "ImportError",
     "evalue": "No module named coffeetools",
     "output_type": "error",
     "traceback": [
      "\u001b[0;31m---------------------------------------------------------------------------\u001b[0m",
      "\u001b[0;31mImportError\u001b[0m                               Traceback (most recent call last)",
      "\u001b[0;32m<ipython-input-1-ed68f85a4470>\u001b[0m in \u001b[0;36m<module>\u001b[0;34m()\u001b[0m\n\u001b[1;32m      9\u001b[0m \u001b[0;34m\u001b[0m\u001b[0m\n\u001b[1;32m     10\u001b[0m \u001b[0;32mfrom\u001b[0m \u001b[0mIPython\u001b[0m\u001b[0;34m.\u001b[0m\u001b[0mdisplay\u001b[0m \u001b[0;32mimport\u001b[0m \u001b[0mImage\u001b[0m\u001b[0;34m,\u001b[0m \u001b[0mHTML\u001b[0m\u001b[0;34m,\u001b[0m \u001b[0mJavascript\u001b[0m\u001b[0;34m\u001b[0m\u001b[0m\n\u001b[0;32m---> 11\u001b[0;31m \u001b[0;32mfrom\u001b[0m \u001b[0mcoffeetools\u001b[0m \u001b[0;32mimport\u001b[0m \u001b[0mcoffee\u001b[0m\u001b[0;34m\u001b[0m\u001b[0m\n\u001b[0m\u001b[1;32m     12\u001b[0m \u001b[0moutput_notebook\u001b[0m\u001b[0;34m(\u001b[0m\u001b[0;34m)\u001b[0m\u001b[0;34m\u001b[0m\u001b[0m\n",
      "\u001b[0;31mImportError\u001b[0m: No module named coffeetools"
     ]
    }
   ],
   "source": [
    "import requests\n",
    "import pandas as pd\n",
    "import numpy as np\n",
    "from skimage import io\n",
    "from sklearn.decomposition import PCA\n",
    "from scipy.spatial import ConvexHull\n",
    "import bokeh\n",
    "from bokeh.plotting import figure, show, output_notebook, output_file\n",
    "\n",
    "from IPython.display import Image, HTML, Javascript\n",
    "from coffeetools import coffee\n",
    "output_notebook()"
   ]
  },
  {
   "cell_type": "code",
   "execution_count": null,
   "metadata": {
    "collapsed": false,
    "deletable": true,
    "editable": true
   },
   "outputs": [],
   "source": [
    "# Must make all photos public on Flickr for this cell to work.\n",
    "\n",
    "import flickrapi\n",
    "api_key = u'e8366dedadcfc81dcd0c761492b91827'\n",
    "api_secret = u'f8bc4e6c4e7bf4ff'\n",
    "\n",
    "flickr = flickrapi.FlickrAPI(api_key, api_secret, format='json')\n",
    "photos = flickr.photos.search(user_id='127699624@N02', per_page='100')\n",
    "df_flickr = pd.read_json(photos)\n",
    "df_flickr = pd.DataFrame(df_flickr['photos']['photo'])\n",
    "df_flickr.to_csv('/Users/Imperssonator/CC/Zoom_Imgs/flickr.csv')\n",
    "df_flickr.head()"
   ]
  },
  {
   "cell_type": "code",
   "execution_count": 3,
   "metadata": {
    "collapsed": false,
    "deletable": true,
    "editable": true
   },
   "outputs": [
    {
     "data": {
      "text/html": [
       "<div>\n",
       "<table border=\"1\" class=\"dataframe\">\n",
       "  <thead>\n",
       "    <tr style=\"text-align: right;\">\n",
       "      <th></th>\n",
       "      <th>Unnamed: 0</th>\n",
       "      <th>farm</th>\n",
       "      <th>id</th>\n",
       "      <th>isfamily</th>\n",
       "      <th>isfriend</th>\n",
       "      <th>ispublic</th>\n",
       "      <th>owner</th>\n",
       "      <th>secret</th>\n",
       "      <th>server</th>\n",
       "      <th>title</th>\n",
       "    </tr>\n",
       "  </thead>\n",
       "  <tbody>\n",
       "    <tr>\n",
       "      <th>0</th>\n",
       "      <td>0</td>\n",
       "      <td>6</td>\n",
       "      <td>30642437092</td>\n",
       "      <td>0</td>\n",
       "      <td>0</td>\n",
       "      <td>1</td>\n",
       "      <td>127699624@N02</td>\n",
       "      <td>3d090af106</td>\n",
       "      <td>5738</td>\n",
       "      <td>MFU 0.25 spin coating 001_2um.002</td>\n",
       "    </tr>\n",
       "    <tr>\n",
       "      <th>1</th>\n",
       "      <td>1</td>\n",
       "      <td>6</td>\n",
       "      <td>30758994195</td>\n",
       "      <td>0</td>\n",
       "      <td>0</td>\n",
       "      <td>1</td>\n",
       "      <td>127699624@N02</td>\n",
       "      <td>821fd60309</td>\n",
       "      <td>5513</td>\n",
       "      <td>MFU 0.1 spin coating 001_2um.001</td>\n",
       "    </tr>\n",
       "    <tr>\n",
       "      <th>2</th>\n",
       "      <td>2</td>\n",
       "      <td>6</td>\n",
       "      <td>30642437132</td>\n",
       "      <td>0</td>\n",
       "      <td>0</td>\n",
       "      <td>1</td>\n",
       "      <td>127699624@N02</td>\n",
       "      <td>3c90407f91</td>\n",
       "      <td>5468</td>\n",
       "      <td>MFU 0.1 spin coating 002_2um.001</td>\n",
       "    </tr>\n",
       "    <tr>\n",
       "      <th>3</th>\n",
       "      <td>3</td>\n",
       "      <td>6</td>\n",
       "      <td>30758994255</td>\n",
       "      <td>0</td>\n",
       "      <td>0</td>\n",
       "      <td>1</td>\n",
       "      <td>127699624@N02</td>\n",
       "      <td>1e192c2be1</td>\n",
       "      <td>5465</td>\n",
       "      <td>MFU 0.6 spin coating 001_2um.001</td>\n",
       "    </tr>\n",
       "    <tr>\n",
       "      <th>4</th>\n",
       "      <td>4</td>\n",
       "      <td>6</td>\n",
       "      <td>30670369541</td>\n",
       "      <td>0</td>\n",
       "      <td>0</td>\n",
       "      <td>1</td>\n",
       "      <td>127699624@N02</td>\n",
       "      <td>37fed69b13</td>\n",
       "      <td>5482</td>\n",
       "      <td>SonAge Sol3 blade 2 V3.002 rot</td>\n",
       "    </tr>\n",
       "  </tbody>\n",
       "</table>\n",
       "</div>"
      ],
      "text/plain": [
       "   Unnamed: 0  farm           id  isfamily  isfriend  ispublic          owner  \\\n",
       "0           0     6  30642437092         0         0         1  127699624@N02   \n",
       "1           1     6  30758994195         0         0         1  127699624@N02   \n",
       "2           2     6  30642437132         0         0         1  127699624@N02   \n",
       "3           3     6  30758994255         0         0         1  127699624@N02   \n",
       "4           4     6  30670369541         0         0         1  127699624@N02   \n",
       "\n",
       "       secret  server                              title  \n",
       "0  3d090af106    5738  MFU 0.25 spin coating 001_2um.002  \n",
       "1  821fd60309    5513   MFU 0.1 spin coating 001_2um.001  \n",
       "2  3c90407f91    5468   MFU 0.1 spin coating 002_2um.001  \n",
       "3  1e192c2be1    5465   MFU 0.6 spin coating 001_2um.001  \n",
       "4  37fed69b13    5482     SonAge Sol3 blade 2 V3.002 rot  "
      ]
     },
     "execution_count": 3,
     "metadata": {},
     "output_type": "execute_result"
    }
   ],
   "source": [
    "df_flickr = pd.read_csv('/Users/Imperssonator/CC/Zoom_Imgs/flickr.csv')\n",
    "df_flickr.head()"
   ]
  },
  {
   "cell_type": "code",
   "execution_count": 4,
   "metadata": {
    "collapsed": false,
    "deletable": true,
    "editable": true
   },
   "outputs": [],
   "source": [
    "# Flickr image url format:\n",
    "# https://farm{farm-id}.staticflickr.com/{server-id}/{id}_{secret}.jpg\n",
    "\n",
    "def make_url(img_path,df_flickr):\n",
    "    row = df_flickr[df_flickr['title']==img_path].iloc[0]\n",
    "    url = 'https://farm'+str(row['farm'])+'.staticflickr.com/'+ \\\n",
    "    str(row['server'])+'/'+str(row['id'])+ \\\n",
    "    '_'+str(row['secret'])+'.jpg'\n",
    "    return url\n"
   ]
  },
  {
   "cell_type": "code",
   "execution_count": 5,
   "metadata": {
    "collapsed": false,
    "deletable": true,
    "editable": true
   },
   "outputs": [
    {
     "data": {
      "text/html": [
       "<div>\n",
       "<table border=\"1\" class=\"dataframe\">\n",
       "  <thead>\n",
       "    <tr style=\"text-align: right;\">\n",
       "      <th></th>\n",
       "      <th>ImageName</th>\n",
       "      <th>Sfull</th>\n",
       "      <th>CorrLen</th>\n",
       "      <th>MeanLength</th>\n",
       "      <th>MeanWidth</th>\n",
       "      <th>LengthDensity</th>\n",
       "      <th>ImageSize</th>\n",
       "      <th>Process</th>\n",
       "    </tr>\n",
       "  </thead>\n",
       "  <tbody>\n",
       "    <tr>\n",
       "      <th>0</th>\n",
       "      <td>MFU 0.1 spin coating 001_2um.001</td>\n",
       "      <td>0.873260</td>\n",
       "      <td>622.3635</td>\n",
       "      <td>361.6864</td>\n",
       "      <td>14.4767</td>\n",
       "      <td>0.015281</td>\n",
       "      <td>2</td>\n",
       "      <td>MFU</td>\n",
       "    </tr>\n",
       "    <tr>\n",
       "      <th>1</th>\n",
       "      <td>MFU 0.1 spin coating 002_2um.001</td>\n",
       "      <td>0.811830</td>\n",
       "      <td>402.2616</td>\n",
       "      <td>344.7610</td>\n",
       "      <td>15.1403</td>\n",
       "      <td>0.014652</td>\n",
       "      <td>2</td>\n",
       "      <td>MFU</td>\n",
       "    </tr>\n",
       "    <tr>\n",
       "      <th>2</th>\n",
       "      <td>MFU 0.25 spin coating 001_2um.002</td>\n",
       "      <td>0.337630</td>\n",
       "      <td>506.4571</td>\n",
       "      <td>164.7038</td>\n",
       "      <td>15.5168</td>\n",
       "      <td>0.011035</td>\n",
       "      <td>2</td>\n",
       "      <td>MFU</td>\n",
       "    </tr>\n",
       "    <tr>\n",
       "      <th>3</th>\n",
       "      <td>MFU 0.6 spin coating 001_2um.001</td>\n",
       "      <td>0.252630</td>\n",
       "      <td>495.0272</td>\n",
       "      <td>190.1355</td>\n",
       "      <td>14.5377</td>\n",
       "      <td>0.011836</td>\n",
       "      <td>2</td>\n",
       "      <td>MFU</td>\n",
       "    </tr>\n",
       "    <tr>\n",
       "      <th>4</th>\n",
       "      <td>10%_2min</td>\n",
       "      <td>0.087859</td>\n",
       "      <td>322.8267</td>\n",
       "      <td>148.7525</td>\n",
       "      <td>21.1618</td>\n",
       "      <td>0.009223</td>\n",
       "      <td>2</td>\n",
       "      <td>Son+2MP</td>\n",
       "    </tr>\n",
       "  </tbody>\n",
       "</table>\n",
       "</div>"
      ],
      "text/plain": [
       "                           ImageName     Sfull   CorrLen  MeanLength  \\\n",
       "0   MFU 0.1 spin coating 001_2um.001  0.873260  622.3635    361.6864   \n",
       "1   MFU 0.1 spin coating 002_2um.001  0.811830  402.2616    344.7610   \n",
       "2  MFU 0.25 spin coating 001_2um.002  0.337630  506.4571    164.7038   \n",
       "3   MFU 0.6 spin coating 001_2um.001  0.252630  495.0272    190.1355   \n",
       "4                           10%_2min  0.087859  322.8267    148.7525   \n",
       "\n",
       "   MeanWidth  LengthDensity  ImageSize  Process  \n",
       "0    14.4767       0.015281          2      MFU  \n",
       "1    15.1403       0.014652          2      MFU  \n",
       "2    15.5168       0.011035          2      MFU  \n",
       "3    14.5377       0.011836          2      MFU  \n",
       "4    21.1618       0.009223          2  Son+2MP  "
      ]
     },
     "execution_count": 5,
     "metadata": {},
     "output_type": "execute_result"
    }
   ],
   "source": [
    "import pandas as pd\n",
    "\n",
    "the_csv_file = 'file:///Users/Imperssonator/Google Drive/My AFM/All Good Images/summary_stats_all.csv'\n",
    "df = pd.read_csv(the_csv_file)\n",
    "df.head()"
   ]
  },
  {
   "cell_type": "code",
   "execution_count": 6,
   "metadata": {
    "collapsed": false,
    "deletable": true,
    "editable": true,
    "scrolled": true
   },
   "outputs": [
    {
     "data": {
      "text/plain": [
       "'https://farm6.staticflickr.com/5459/30721965636_f8d7e203bd.jpg'"
      ]
     },
     "execution_count": 6,
     "metadata": {},
     "output_type": "execute_result"
    }
   ],
   "source": [
    "df['file_url'] = df['ImageName'].apply(lambda x: make_url(x,df_flickr))\n",
    "df['file_url'][10]"
   ]
  },
  {
   "cell_type": "code",
   "execution_count": 7,
   "metadata": {
    "collapsed": false,
    "deletable": true,
    "editable": true
   },
   "outputs": [
    {
     "data": {
      "text/plain": [
       "0    #ba2475\n",
       "1    #ba2475\n",
       "2    #ba2475\n",
       "3    #ba2475\n",
       "4    #60ad78\n",
       "Name: color, dtype: object"
      ]
     },
     "execution_count": 7,
     "metadata": {},
     "output_type": "execute_result"
    }
   ],
   "source": [
    "colors = {}\n",
    "class_to_color = 'Process'\n",
    "for c in df[class_to_color].unique():\n",
    "    colors[c] = np.random.randint( 0,256, (1,3))\n",
    "    df.loc[df[class_to_color]==c,'color'] = '#' + ''.join([ '%02x'%s for s in colors[c][0]] )\n",
    "    \n",
    "df['color'].head()"
   ]
  },
  {
   "cell_type": "code",
   "execution_count": 93,
   "metadata": {
    "collapsed": false,
    "deletable": true,
    "editable": true,
    "scrolled": false
   },
   "outputs": [
    {
     "data": {
      "text/html": [
       "<script type=\"text/javascript\">\n",
       "        Bokeh.$(function() {\n",
       "        var all_models = [{\"type\": \"ToolEvents\", \"id\": \"404b39e3-9370-4a04-aadd-77a46f801502\", \"attributes\": {\"id\": \"404b39e3-9370-4a04-aadd-77a46f801502\", \"tags\": [], \"geometries\": [], \"doc\": null}}, {\"type\": \"Circle\", \"id\": \"2e34774c-09b6-4dd0-893e-470d5b7e3b39\", \"attributes\": {\"id\": \"2e34774c-09b6-4dd0-893e-470d5b7e3b39\", \"y\": {\"field\": \"MeanLength\"}, \"size\": {\"units\": \"screen\", \"value\": 20}, \"tags\": [], \"line_alpha\": {\"value\": 1.0}, \"line_color\": {\"value\": \"#1f77b4\"}, \"fill_alpha\": {\"value\": 0.6}, \"fill_color\": {\"field\": \"color\"}, \"doc\": null, \"x\": {\"field\": \"Sfull\"}}}, {\"type\": \"Grid\", \"id\": \"f7c7550d-a730-453b-bff2-e7f8fd351bff\", \"attributes\": {\"id\": \"f7c7550d-a730-453b-bff2-e7f8fd351bff\", \"dimension\": 0, \"tags\": [], \"ticker\": {\"type\": \"BasicTicker\", \"id\": \"9921fc68-0121-491a-b4b7-913155803798\"}, \"plot\": {\"type\": \"Plot\", \"subtype\": \"Figure\", \"id\": \"8e4f29c4-7450-49f6-ab2d-9fc6048c8aca\"}, \"doc\": null}}, {\"type\": \"PreviewSaveTool\", \"id\": \"b3d19773-f713-4fd7-9d50-326bb591d001\", \"attributes\": {\"id\": \"b3d19773-f713-4fd7-9d50-326bb591d001\", \"tags\": [], \"doc\": null, \"plot\": {\"type\": \"Plot\", \"subtype\": \"Figure\", \"id\": \"8e4f29c4-7450-49f6-ab2d-9fc6048c8aca\"}}}, {\"type\": \"CustomJS\", \"id\": \"eeaa657f-a19f-4043-bf48-4d6937bec9d9\", \"attributes\": {\"id\": \"eeaa657f-a19f-4043-bf48-4d6937bec9d9\", \"tags\": [], \"args\": {\"cds\": {\"type\": \"ColumnDataSource\", \"id\": \"2f8376a5-86f7-438d-a01a-1019edbfd891\"}, \"images\": {\"type\": \"ImageURL\", \"id\": \"7b8e6eca-5e4d-40f4-afce-519fbe1f748e\"}, \"x_axis\": {\"type\": \"DataRange1d\", \"id\": \"1807d8d7-1624-490a-be7d-e4fba6724bf1\"}, \"y_axis\": {\"type\": \"DataRange1d\", \"id\": \"490ab095-e67c-415f-90f9-f19137367c21\"}}, \"code\": \"// Generated by CoffeeScript 1.10.0\\nvar ddata, dx;\\n\\ndx = x_axis.get('end') - x_axis.get('start');\\n\\nddata = Bokeh._.max(cds.get('data')['Sfull']) - Bokeh._.min(cds.get('data')['Sfull']);\\n\\nif (dx > .0001 * ddata) {\\n  images.set('global_alpha', .001 + .8 * Math.exp(-1 * Math.pow(dx - (.0001 * ddata), 2) / .014));\\n}\\n\", \"doc\": null}}, {\"type\": \"Grid\", \"id\": \"5d9111b9-2f27-422f-9be5-e4c47313e951\", \"attributes\": {\"id\": \"5d9111b9-2f27-422f-9be5-e4c47313e951\", \"dimension\": 1, \"tags\": [], \"ticker\": {\"type\": \"BasicTicker\", \"id\": \"d153cfc9-d783-42d6-9683-edad25023c38\"}, \"plot\": {\"type\": \"Plot\", \"subtype\": \"Figure\", \"id\": \"8e4f29c4-7450-49f6-ab2d-9fc6048c8aca\"}, \"doc\": null}}, {\"type\": \"Plot\", \"subtype\": \"Figure\", \"id\": \"8e4f29c4-7450-49f6-ab2d-9fc6048c8aca\", \"attributes\": {\"plot_width\": 800, \"extra_x_ranges\": {}, \"tags\": [], \"y_range\": {\"type\": \"DataRange1d\", \"id\": \"490ab095-e67c-415f-90f9-f19137367c21\"}, \"x_range\": {\"type\": \"DataRange1d\", \"id\": \"1807d8d7-1624-490a-be7d-e4fba6724bf1\"}, \"right\": [], \"plot_height\": 600, \"responsive\": false, \"renderers\": [{\"type\": \"LinearAxis\", \"id\": \"3809754b-602f-45d0-a188-77d1c006c4ee\"}, {\"type\": \"Grid\", \"id\": \"f7c7550d-a730-453b-bff2-e7f8fd351bff\"}, {\"type\": \"LinearAxis\", \"id\": \"d97eb37e-35b3-4ad2-82e3-4d8ab08ef103\"}, {\"type\": \"Grid\", \"id\": \"5d9111b9-2f27-422f-9be5-e4c47313e951\"}, {\"type\": \"GlyphRenderer\", \"id\": \"35c259e3-a4e6-4ec0-818f-22210e45c371\"}, {\"type\": \"GlyphRenderer\", \"id\": \"5b7bc393-fea4-4b71-bef7-9d0908c97aac\"}], \"id\": \"8e4f29c4-7450-49f6-ab2d-9fc6048c8aca\", \"extra_y_ranges\": {}, \"below\": [{\"type\": \"LinearAxis\", \"id\": \"3809754b-602f-45d0-a188-77d1c006c4ee\"}], \"doc\": null, \"left\": [{\"type\": \"LinearAxis\", \"id\": \"d97eb37e-35b3-4ad2-82e3-4d8ab08ef103\"}], \"above\": [], \"tools\": [{\"type\": \"PanTool\", \"id\": \"2ad84183-932e-4c22-a56a-1c998355480e\"}, {\"type\": \"WheelZoomTool\", \"id\": \"880b725e-610b-49c1-9cc9-e3fa0f15157b\"}, {\"type\": \"BoxZoomTool\", \"id\": \"a3fdb620-1b5d-4675-b098-71792b84e8e3\"}, {\"type\": \"PreviewSaveTool\", \"id\": \"b3d19773-f713-4fd7-9d50-326bb591d001\"}, {\"type\": \"ResizeTool\", \"id\": \"4256738e-271f-4ec5-a648-20dc3579c0ad\"}, {\"type\": \"ResetTool\", \"id\": \"26ce9a97-8f5b-4282-81ca-c8e7d274a4aa\"}, {\"type\": \"HelpTool\", \"id\": \"0d0f8ded-4f42-40ad-9f1a-ddf216643c61\"}, {\"type\": \"HoverTool\", \"id\": \"b20acd3f-4935-4f9c-acdf-91768bc203d9\"}], \"tool_events\": {\"type\": \"ToolEvents\", \"id\": \"404b39e3-9370-4a04-aadd-77a46f801502\"}}}, {\"type\": \"Circle\", \"id\": \"3df6f39e-65b1-4eb5-9bf6-d1e847eae7fc\", \"attributes\": {\"id\": \"3df6f39e-65b1-4eb5-9bf6-d1e847eae7fc\", \"y\": {\"field\": \"MeanLength\"}, \"size\": {\"units\": \"screen\", \"value\": 20}, \"tags\": [], \"line_alpha\": {\"value\": 0.1}, \"line_color\": {\"value\": \"#1f77b4\"}, \"fill_alpha\": {\"value\": 0.1}, \"fill_color\": {\"value\": \"#1f77b4\"}, \"doc\": null, \"x\": {\"field\": \"Sfull\"}}}, {\"type\": \"PanTool\", \"id\": \"2ad84183-932e-4c22-a56a-1c998355480e\", \"attributes\": {\"id\": \"2ad84183-932e-4c22-a56a-1c998355480e\", \"tags\": [], \"dimensions\": [\"width\", \"height\"], \"doc\": null, \"plot\": {\"type\": \"Plot\", \"subtype\": \"Figure\", \"id\": \"8e4f29c4-7450-49f6-ab2d-9fc6048c8aca\"}}}, {\"type\": \"GlyphRenderer\", \"id\": \"35c259e3-a4e6-4ec0-818f-22210e45c371\", \"attributes\": {\"data_source\": {\"type\": \"ColumnDataSource\", \"id\": \"2f8376a5-86f7-438d-a01a-1019edbfd891\"}, \"nonselection_glyph\": {\"type\": \"Circle\", \"id\": \"3df6f39e-65b1-4eb5-9bf6-d1e847eae7fc\"}, \"id\": \"35c259e3-a4e6-4ec0-818f-22210e45c371\", \"doc\": null, \"glyph\": {\"type\": \"Circle\", \"id\": \"2e34774c-09b6-4dd0-893e-470d5b7e3b39\"}, \"tags\": [], \"selection_glyph\": null}}, {\"type\": \"BoxZoomTool\", \"id\": \"a3fdb620-1b5d-4675-b098-71792b84e8e3\", \"attributes\": {\"id\": \"a3fdb620-1b5d-4675-b098-71792b84e8e3\", \"tags\": [], \"dimensions\": [\"width\", \"height\"], \"doc\": null, \"plot\": {\"type\": \"Plot\", \"subtype\": \"Figure\", \"id\": \"8e4f29c4-7450-49f6-ab2d-9fc6048c8aca\"}}}, {\"type\": \"ImageURL\", \"id\": \"42281b35-c222-44db-9211-28c31af63cd5\", \"attributes\": {\"global_alpha\": 0.001, \"anchor\": \"center\", \"y\": {\"field\": \"MeanLength\"}, \"tags\": [], \"id\": \"42281b35-c222-44db-9211-28c31af63cd5\", \"h\": {\"units\": \"data\", \"value\": 20}, \"doc\": null, \"x\": {\"field\": \"Sfull\"}, \"url\": {\"field\": \"file_url\"}, \"w\": {\"units\": \"data\", \"value\": 0.01224}}}, {\"type\": \"GlyphRenderer\", \"id\": \"5b7bc393-fea4-4b71-bef7-9d0908c97aac\", \"attributes\": {\"data_source\": {\"type\": \"ColumnDataSource\", \"id\": \"2f8376a5-86f7-438d-a01a-1019edbfd891\"}, \"nonselection_glyph\": {\"type\": \"ImageURL\", \"id\": \"42281b35-c222-44db-9211-28c31af63cd5\"}, \"id\": \"5b7bc393-fea4-4b71-bef7-9d0908c97aac\", \"doc\": null, \"glyph\": {\"type\": \"ImageURL\", \"id\": \"7b8e6eca-5e4d-40f4-afce-519fbe1f748e\"}, \"tags\": [], \"selection_glyph\": null}}, {\"type\": \"BasicTickFormatter\", \"id\": \"ecac4352-c634-4789-a668-404d91c50802\", \"attributes\": {\"id\": \"ecac4352-c634-4789-a668-404d91c50802\", \"doc\": null, \"tags\": []}}, {\"type\": \"BasicTickFormatter\", \"id\": \"55eb21b2-9fdf-42f0-acc7-8d197e1a2c87\", \"attributes\": {\"id\": \"55eb21b2-9fdf-42f0-acc7-8d197e1a2c87\", \"doc\": null, \"tags\": []}}, {\"type\": \"HoverTool\", \"id\": \"b20acd3f-4935-4f9c-acdf-91768bc203d9\", \"attributes\": {\"id\": \"b20acd3f-4935-4f9c-acdf-91768bc203d9\", \"renderers\": [], \"doc\": null, \"callback\": null, \"tags\": [], \"plot\": {\"type\": \"Plot\", \"subtype\": \"Figure\", \"id\": \"8e4f29c4-7450-49f6-ab2d-9fc6048c8aca\"}, \"names\": [], \"tooltips\": [[\"S full\", \"@Sfull\"], [\"Avg. Fiber Length (nm)\", \"@MeanLength\"], [\"Image Size (um)\", \"@ImageSize\"], [\"Process\", \"@Process\"]]}}, {\"type\": \"BasicTicker\", \"id\": \"9921fc68-0121-491a-b4b7-913155803798\", \"attributes\": {\"mantissas\": [2, 5, 10], \"tags\": [], \"num_minor_ticks\": 5, \"doc\": null, \"id\": \"9921fc68-0121-491a-b4b7-913155803798\"}}, {\"type\": \"DataRange1d\", \"id\": \"490ab095-e67c-415f-90f9-f19137367c21\", \"attributes\": {\"id\": \"490ab095-e67c-415f-90f9-f19137367c21\", \"names\": [], \"tags\": [], \"callback\": null, \"doc\": null, \"renderers\": []}}, {\"type\": \"ImageURL\", \"id\": \"7b8e6eca-5e4d-40f4-afce-519fbe1f748e\", \"attributes\": {\"global_alpha\": 0.001, \"anchor\": \"center\", \"y\": {\"field\": \"MeanLength\"}, \"tags\": [], \"id\": \"7b8e6eca-5e4d-40f4-afce-519fbe1f748e\", \"h\": {\"units\": \"data\", \"value\": 20}, \"doc\": null, \"x\": {\"field\": \"Sfull\"}, \"url\": {\"field\": \"file_url\"}, \"w\": {\"units\": \"data\", \"value\": 0.01224}}}, {\"type\": \"BasicTicker\", \"id\": \"d153cfc9-d783-42d6-9683-edad25023c38\", \"attributes\": {\"mantissas\": [2, 5, 10], \"tags\": [], \"num_minor_ticks\": 5, \"doc\": null, \"id\": \"d153cfc9-d783-42d6-9683-edad25023c38\"}}, {\"type\": \"ResizeTool\", \"id\": \"4256738e-271f-4ec5-a648-20dc3579c0ad\", \"attributes\": {\"id\": \"4256738e-271f-4ec5-a648-20dc3579c0ad\", \"tags\": [], \"doc\": null, \"plot\": {\"type\": \"Plot\", \"subtype\": \"Figure\", \"id\": \"8e4f29c4-7450-49f6-ab2d-9fc6048c8aca\"}}}, {\"type\": \"LinearAxis\", \"id\": \"3809754b-602f-45d0-a188-77d1c006c4ee\", \"attributes\": {\"ticker\": {\"type\": \"BasicTicker\", \"id\": \"9921fc68-0121-491a-b4b7-913155803798\"}, \"formatter\": {\"type\": \"BasicTickFormatter\", \"id\": \"55eb21b2-9fdf-42f0-acc7-8d197e1a2c87\"}, \"doc\": null, \"tags\": [], \"axis_label\": \"S Full\", \"id\": \"3809754b-602f-45d0-a188-77d1c006c4ee\", \"plot\": {\"type\": \"Plot\", \"subtype\": \"Figure\", \"id\": \"8e4f29c4-7450-49f6-ab2d-9fc6048c8aca\"}}}, {\"type\": \"ColumnDataSource\", \"id\": \"2f8376a5-86f7-438d-a01a-1019edbfd891\", \"attributes\": {\"id\": \"2f8376a5-86f7-438d-a01a-1019edbfd891\", \"data\": {\"CorrLen\": [622.3635, 402.2616, 506.4571, 495.0272, 322.8267, 383.5131, 380.6616, 406.7245, 244.7437, 297.5846, 334.97, 236.7337, 432.0112, 222.9739, 184.4389, 254.0527, 462.7034, 756.2096, 805.0274, 1088.6596, 789.5428, 383.4331, 958.4202, 868.2262, 394.0229, 457.6675, 528.4555, 661.6652, 430.5893, 213.5961, 910.3554, 608.9314, 1114.6911, 937.7130000000001, 1068.9606, 525.5293, 725.5421, 834.6892, 521.4066, 483.6766, 674.5353, 1238.85, 979.3115, 887.6131, 946.6498, 891.0237, 923.1941, 1206.8996, 902.8631, 894.7643, 847.7349, 1080.0749, 1019.1137, 590.4147, 779.2164, 598.0943], \"LengthDensity\": [0.015281, 0.014652000000000002, 0.011035, 0.011836, 0.0092227, 0.0099258, 0.011137000000000001, 0.013574000000000001, 0.0093164, 0.011312000000000001, 0.011223, 0.0087656, 0.0052471, 0.0072773, 0.007154300000000001, 0.0073887, 0.0068555000000000005, 0.0068701000000000005, 0.0076617000000000005, 0.0053121, 0.0080719, 0.0045059, 0.006925799999999999, 0.0095297, 0.0083707, 0.0092977, 0.010212, 0.011119, 0.0079008, 0.0093469, 0.0098953, 0.0098695, 0.0073148, 0.0086391, 0.007809399999999999, 0.0091641, 0.0073242, 0.0068742000000000004, 0.0038260999999999994, 0.0068253, 0.0061641000000000005, 0.0054659999999999995, 0.0054074, 0.0032046999999999996, 0.0034211, 0.0034390999999999996, 0.0043562, 0.004493, 0.0042492, 0.004421100000000001, 0.004640600000000001, 0.0087848, 0.0049616999999999994, 0.005146899999999999, 0.0047344, 0.0049296999999999995], \"ImageName\": [\"MFU 0.1 spin coating 001_2um.001\", \"MFU 0.1 spin coating 002_2um.001\", \"MFU 0.25 spin coating 001_2um.002\", \"MFU 0.6 spin coating 001_2um.001\", \"10%_2min\", \"15%\", \"15%_2min\", \"20%\", \"20%_2min\", \"30%\", \"40%\", \"5%_2min\", \"CMC6-1-0.5mms-4um.005\", \"CMC6-2-1mms-4um.001\", \"CMC6-2-1mms-4um.002\", \"CMC6-3-2mms-4um.001\", \"CMC6-4-4mms-4um.001\", \"CMC6-4-4mms-4um.002\", \"18hrSpin1.004.flat\", \"48hrSpin1.006.flat\", \"48hrSpin3.005.flat\", \"88B4day+2minSonSpin1.001.flat\", \"88D2minSon+4daySpin1.001.flat\", \"96hrSpin1.003.flat\", \"96hrSpin3.002.flat\", \"BP5-lowerchannel\", \"BP5-upperchannel\", \"BV5-000\", \"BV5-001\", \"BV5-005\", \"MFU 0.1 spin coating 001_5um.001\", \"MFU 0.1 spin coating 002_5um.001\", \"MFU1.001\", \"SC5-lowerchannel\", \"SC5-midchannel\", \"SC5-upperchannel\", \"SUDay2V1.001\", \"SonAge Sol3 blade 2 V3.002 rot\", \"SDay2H1.001.trim\", \"SUDay2V1.002\", \"SUV0hV1.001\", \"UDay2H1.001\", \"UDay2H1.002\", \"0-3.001\", \"0-3.008\", \"0-3.009\", \"2-3.002\", \"2-3.003\", \"2-3.004\", \"2-3.005\", \"4-2.005\", \"48hr Spin1 10um.003.flat\", \"6-1.001\", \"6-1.002\", \"6-1.003\", \"6-1.004\"], \"MeanWidth\": [14.4767, 15.1403, 15.5168, 14.5377, 21.1618, 17.997, 18.6723, 15.1415, 18.705, 15.6816, 17.533, 19.875, 24.1278, 24.6858, 24.0747, 23.945999999999998, 23.9799, 24.2545, 20.7258, 27.1769, 25.7936, 26.6888, 25.9309, 23.2315, 22.6923, 19.7978, 20.7342, 20.7182, 22.2552, 20.686999999999998, 19.3864, 19.2854, 19.7599, 20.3103, 19.1368, 20.0682, 23.0915, 32.6318, 32.4666, 24.7926, 24.5004, 25.1866, 25.6774, 30.9389, 33.1683, 32.417, 32.3047, 32.5316, 32.0051, 32.3755, 33.1121, 25.4988, 33.2067, 32.3466, 32.1033, 32.4299], \"index\": [0, 1, 2, 3, 4, 5, 6, 7, 8, 9, 10, 11, 12, 13, 14, 15, 16, 17, 18, 19, 20, 21, 22, 23, 24, 25, 26, 27, 28, 29, 30, 31, 32, 33, 34, 35, 36, 37, 38, 39, 40, 41, 42, 43, 44, 45, 46, 47, 48, 49, 50, 51, 52, 53, 54, 55], \"Sfull\": [0.87326, 0.81183, 0.33763000000000004, 0.25263, 0.087859, 0.44978999999999997, 0.27304, 0.56407, 0.25595, 0.27476999999999996, 0.1227, 0.17722000000000002, 0.28956, 0.77778, 0.80366, 0.8480200000000001, 0.6267, 0.69077, 0.49821000000000004, 0.34951, 0.49695, 0.1754, 0.48123, 0.57831, 0.78767, 0.6275, 0.8936700000000001, 0.9031, 0.8746200000000001, 0.9036299999999999, 0.80051, 0.78766, 0.15277000000000002, 0.33829000000000004, 0.45278999999999997, 0.7146600000000001, 0.070721, 0.27455, 0.18977, 0.2384, 0.4589, 0.26045999999999997, 0.54803, 0.14670999999999998, 0.058796, 0.089312, 0.2516, 0.23149, 0.32971, 0.39094, 0.2164, 0.26613000000000003, 0.34745, 0.51685, 0.39161999999999997, 0.49315], \"MeanLength\": [361.6864, 344.76099999999997, 164.7038, 190.1355, 148.7525, 159.4503, 184.078, 220.71900000000002, 133.5685, 148.8487, 135.6212, 139.6912, 202.7853, 291.0938, 271.253, 331.145, 293.2821, 309.6391, 310.9464, 244.5723, 352.176, 160.2368, 346.2891, 511.2493, 359.5663, 520.0031, 691.8509, 759.4775, 945.0695, 599.1587, 442.5453, 429.1101, 258.6578, 453.7323, 512.4262, 529.1029, 286.55, 436.1814, 287.1048, 321.2694, 476.4023, 460.1925, 516.4931, 430.7376, 443.1469, 426.154, 554.9363, 586.5494, 552.5642, 565.3573, 462.2136, 530.1609, 598.5185, 561.8859, 489.5941, 491.0047], \"color\": [\"#98013a\", \"#98013a\", \"#98013a\", \"#98013a\", \"#d4e910\", \"#b0a929\", \"#d4e910\", \"#b0a929\", \"#d4e910\", \"#b0a929\", \"#b0a929\", \"#d4e910\", \"#2dd627\", \"#2dd627\", \"#2dd627\", \"#2dd627\", \"#2dd627\", \"#2dd627\", \"#7e1a25\", \"#7e1a25\", \"#7e1a25\", \"#440def\", \"#a155a9\", \"#7e1a25\", \"#7e1a25\", \"#e3a140\", \"#e3a140\", \"#e3a140\", \"#e3a140\", \"#e3a140\", \"#98013a\", \"#98013a\", \"#98013a\", \"#7e1a25\", \"#7e1a25\", \"#7e1a25\", \"#c1b0ea\", \"#a155a9\", \"#a155a9\", \"#c1b0ea\", \"#8ffd30\", \"#32c505\", \"#32c505\", \"#a155a9\", \"#a155a9\", \"#a155a9\", \"#a155a9\", \"#a155a9\", \"#a155a9\", \"#a155a9\", \"#a155a9\", \"#7e1a25\", \"#a155a9\", \"#a155a9\", \"#a155a9\", \"#a155a9\"], \"Process\": [\"MFU\", \"MFU\", \"MFU\", \"MFU\", \"Son+2MP\", \"2MP\", \"Son+2MP\", \"2MP\", \"Son+2MP\", \"2MP\", \"2MP\", \"Son+2MP\", \"Slide\", \"Slide\", \"Slide\", \"Slide\", \"Slide\", \"Slide\", \"Age\", \"Age\", \"Age\", \"Age+Son\", \"Son+Age\", \"Age\", \"Age\", \"Blade\", \"Blade\", \"Blade\", \"Blade\", \"Blade\", \"MFU\", \"MFU\", \"MFU\", \"Age\", \"Age\", \"Age\", \"Son+UV+Age\", \"Son+Age\", \"Son+Age\", \"Son+UV+Age\", \"Son+UV\", \"UV+Age\", \"UV+Age\", \"Son+Age\", \"Son+Age\", \"Son+Age\", \"Son+Age\", \"Son+Age\", \"Son+Age\", \"Son+Age\", \"Son+Age\", \"Age\", \"Son+Age\", \"Son+Age\", \"Son+Age\", \"Son+Age\"], \"ImageSize\": [2, 2, 2, 2, 2, 2, 2, 2, 2, 2, 2, 2, 4, 4, 4, 4, 4, 4, 5, 5, 5, 5, 5, 5, 5, 5, 5, 5, 5, 5, 5, 5, 5, 5, 5, 5, 5, 5, 7, 7, 7, 7, 7, 10, 10, 10, 10, 10, 10, 10, 10, 10, 10, 10, 10, 10], \"file_url\": [\"https://farm6.staticflickr.com/5513/30758994195_821fd60309.jpg\", \"https://farm6.staticflickr.com/5468/30642437132_3c90407f91.jpg\", \"https://farm6.staticflickr.com/5738/30642437092_3d090af106.jpg\", \"https://farm6.staticflickr.com/5465/30758994255_1e192c2be1.jpg\", \"https://farm6.staticflickr.com/5567/30123037323_295045cdd3.jpg\", \"https://farm6.staticflickr.com/5784/30123037193_261fb42768.jpg\", \"https://farm6.staticflickr.com/5686/30721965296_53d63d451f.jpg\", \"https://farm6.staticflickr.com/5459/30721965476_b22f28d1e8.jpg\", \"https://farm6.staticflickr.com/5790/30458043630_1760236032.jpg\", \"https://farm6.staticflickr.com/5754/30721965416_54e0cc3dc9.jpg\", \"https://farm6.staticflickr.com/5459/30721965636_f8d7e203bd.jpg\", \"https://farm6.staticflickr.com/5824/30458043750_a43f232bdb.jpg\", \"https://farm9.staticflickr.com/8614/29926633823_f355f891f4.jpg\", \"https://farm6.staticflickr.com/5657/30443645862_415f2dcce7.jpg\", \"https://farm6.staticflickr.com/5341/30261347560_766c2d3eeb.jpg\", \"https://farm6.staticflickr.com/5468/29926633793_241d68873d.jpg\", \"https://farm6.staticflickr.com/5628/29926633733_0525de74f0.jpg\", \"https://farm6.staticflickr.com/5678/29929212094_fae4e1af60.jpg\", \"https://farm6.staticflickr.com/5446/29926634243_bb149294d2.jpg\", \"https://farm6.staticflickr.com/5328/30443646022_7cf37c698c.jpg\", \"https://farm6.staticflickr.com/5755/29926634103_948aa3ba59.jpg\", \"https://farm6.staticflickr.com/5652/30443646012_8e1f536ec2.jpg\", \"https://farm9.staticflickr.com/8610/29926634033_e34cf69f54.jpg\", \"https://farm9.staticflickr.com/8669/30443645972_5ecf23e570.jpg\", \"https://farm6.staticflickr.com/5650/29926633963_8f25936226.jpg\", \"https://farm6.staticflickr.com/5701/29929211834_f82389ce1b.jpg\", \"https://farm6.staticflickr.com/5656/29926633253_2be4372037.jpg\", \"https://farm9.staticflickr.com/8622/29926633243_471424ecfb.jpg\", \"https://farm6.staticflickr.com/5597/30261347350_24c13007cb.jpg\", \"https://farm6.staticflickr.com/5535/29929211894_60779de912.jpg\", \"https://farm6.staticflickr.com/5729/30261347530_12b3e3943f.jpg\", \"https://farm6.staticflickr.com/5752/30261347510_fbec0b41c9.jpg\", \"https://farm6.staticflickr.com/5780/30443645922_67e53309b0.jpg\", \"https://farm6.staticflickr.com/5590/29926633293_3f13a00054.jpg\", \"https://farm6.staticflickr.com/5467/30261347370_0e3c0caf42.jpg\", \"https://farm6.staticflickr.com/5708/29926633353_68f8206710.jpg\", \"https://farm6.staticflickr.com/5798/29926633133_fd5f369efa.jpg\", \"https://farm6.staticflickr.com/5482/30670369541_37fed69b13.jpg\", \"https://farm6.staticflickr.com/5558/29926633083_8e250d7d03.jpg\", \"https://farm9.staticflickr.com/8562/30261347330_f22bb10f74.jpg\", \"https://farm9.staticflickr.com/8661/29926633193_0579062939.jpg\", \"https://farm6.staticflickr.com/5614/29926633173_6f11ea1695.jpg\", \"https://farm6.staticflickr.com/5643/29929211774_6dc26db862.jpg\", \"https://farm6.staticflickr.com/5492/29926633613_d18a90e12b.jpg\", \"https://farm6.staticflickr.com/5765/29926633383_c52e28b784.jpg\", \"https://farm6.staticflickr.com/5543/29929211944_26172ee3c6.jpg\", \"https://farm6.staticflickr.com/5550/29926633593_467b8563f1.jpg\", \"https://farm6.staticflickr.com/5608/29929212004_8750e7ef8c.jpg\", \"https://farm9.staticflickr.com/8649/29926633523_44f923697b.jpg\", \"https://farm6.staticflickr.com/5794/29926633543_fd7e460d8c.jpg\", \"https://farm6.staticflickr.com/5492/30261347410_e03f5e1098.jpg\", \"https://farm6.staticflickr.com/5793/30261347620_5034afa62d.jpg\", \"https://farm6.staticflickr.com/5597/30261347490_fbd0f98a0b.jpg\", \"https://farm6.staticflickr.com/5768/29929211974_7f1d9b117a.jpg\", \"https://farm6.staticflickr.com/5589/29926633473_b61d2efe00.jpg\", \"https://farm6.staticflickr.com/5774/29926633463_8b21d31c21.jpg\"]}, \"doc\": null, \"callback\": null, \"tags\": [], \"column_names\": [\"CorrLen\", \"LengthDensity\", \"ImageName\", \"MeanWidth\", \"index\", \"Sfull\", \"MeanLength\", \"color\", \"Process\", \"ImageSize\", \"file_url\"], \"selected\": {\"2d\": {\"indices\": []}, \"1d\": {\"indices\": []}, \"0d\": {\"flag\": false, \"indices\": []}}}}, {\"type\": \"ResetTool\", \"id\": \"26ce9a97-8f5b-4282-81ca-c8e7d274a4aa\", \"attributes\": {\"id\": \"26ce9a97-8f5b-4282-81ca-c8e7d274a4aa\", \"tags\": [], \"doc\": null, \"plot\": {\"type\": \"Plot\", \"subtype\": \"Figure\", \"id\": \"8e4f29c4-7450-49f6-ab2d-9fc6048c8aca\"}}}, {\"type\": \"HelpTool\", \"id\": \"0d0f8ded-4f42-40ad-9f1a-ddf216643c61\", \"attributes\": {\"id\": \"0d0f8ded-4f42-40ad-9f1a-ddf216643c61\", \"tags\": [], \"doc\": null, \"plot\": {\"type\": \"Plot\", \"subtype\": \"Figure\", \"id\": \"8e4f29c4-7450-49f6-ab2d-9fc6048c8aca\"}}}, {\"type\": \"WheelZoomTool\", \"id\": \"880b725e-610b-49c1-9cc9-e3fa0f15157b\", \"attributes\": {\"id\": \"880b725e-610b-49c1-9cc9-e3fa0f15157b\", \"tags\": [], \"dimensions\": [\"width\", \"height\"], \"doc\": null, \"plot\": {\"type\": \"Plot\", \"subtype\": \"Figure\", \"id\": \"8e4f29c4-7450-49f6-ab2d-9fc6048c8aca\"}}}, {\"type\": \"DataRange1d\", \"id\": \"1807d8d7-1624-490a-be7d-e4fba6724bf1\", \"attributes\": {\"id\": \"1807d8d7-1624-490a-be7d-e4fba6724bf1\", \"names\": [], \"tags\": [], \"callback\": {\"type\": \"CustomJS\", \"id\": \"eeaa657f-a19f-4043-bf48-4d6937bec9d9\"}, \"doc\": null, \"renderers\": []}}, {\"type\": \"LinearAxis\", \"id\": \"d97eb37e-35b3-4ad2-82e3-4d8ab08ef103\", \"attributes\": {\"ticker\": {\"type\": \"BasicTicker\", \"id\": \"d153cfc9-d783-42d6-9683-edad25023c38\"}, \"formatter\": {\"type\": \"BasicTickFormatter\", \"id\": \"ecac4352-c634-4789-a668-404d91c50802\"}, \"doc\": null, \"tags\": [], \"axis_label\": \"Average Fiber Length\", \"id\": \"d97eb37e-35b3-4ad2-82e3-4d8ab08ef103\", \"plot\": {\"type\": \"Plot\", \"subtype\": \"Figure\", \"id\": \"8e4f29c4-7450-49f6-ab2d-9fc6048c8aca\"}}}];\n",
       "        Bokeh.load_models(all_models);\n",
       "        var plots = [{'elementid': '343d8633-d4af-43b6-b26b-82b53f3e67d8', 'modeltype': 'Plot', 'modelid': '8e4f29c4-7450-49f6-ab2d-9fc6048c8aca'}];\n",
       "        for (idx in plots) {\n",
       "        \tvar plot = plots[idx];\n",
       "        \tvar model = Bokeh.Collections(plot.modeltype).get(plot.modelid);\n",
       "        \tBokeh.logger.info('Realizing plot:')\n",
       "        \tBokeh.logger.info(' - modeltype: ' + plot.modeltype);\n",
       "        \tBokeh.logger.info(' - modelid: ' + plot.modelid);\n",
       "        \tBokeh.logger.info(' - elementid: ' + plot.elementid);\n",
       "        \tvar view = new model.default_view({\n",
       "        \t\tmodel: model,\n",
       "        \t\tel: '#' + plot.elementid\n",
       "        \t});\n",
       "        \tBokeh.index[plot.modelid] = view;\n",
       "        }\n",
       "    });\n",
       "    </script>\n",
       "<div class=\"plotdiv\" id=\"343d8633-d4af-43b6-b26b-82b53f3e67d8\"></div>\n",
       "\n"
      ]
     },
     "metadata": {},
     "output_type": "display_data"
    }
   ],
   "source": [
    "p2=figure(responsive=False, x_axis_label = 'S Full', y_axis_label = 'Average Fiber Length',width = 800, height=600)\n",
    "\n",
    "# patches = []\n",
    "# for c in df['class'].unique():\n",
    "#     i = df.loc[df['class']==c].index.values\n",
    "#     h = ConvexHull(df.iloc[i][['pca_x','pca_y']])\n",
    "#     pp = p.patch(**{\n",
    "#             'fill_color': df.iloc[i[0]].color,\n",
    "#             'fill_alpha': .4,\n",
    "#             'x': df.iloc[i].pca_x.values[h.vertices],\n",
    "#             'y': df.iloc[i].pca_y.values[h.vertices],\n",
    "#             'legend': c,\n",
    "#         })\n",
    "    \n",
    "# gds=bokeh.models.ColumnDataSource(g)\n",
    "# class_scale = p.oval( \n",
    "#     source=gds, \n",
    "#     x='pca_x.mean', \n",
    "#     width='pca_x.std',\n",
    "#     y='pca_y.mean',\n",
    "#     height='pca_y.std',\n",
    "#     fill_color='color.min',\n",
    "#     fill_alpha = .6,\n",
    "# )\n",
    "\n",
    "# p.add_tools(\n",
    "#     bokeh.models.TapTool( \n",
    "#         renderers=[pp],\n",
    "#         callback=bokeh.models.CustomJS(\n",
    "#                 code=coffee.compile(\"\"\"\n",
    "#                 console.log 'click'\n",
    "#                 \"\"\",bare=True)\n",
    "#             )\n",
    "#     )\n",
    "# )\n",
    "\n",
    "cds = bokeh.models.ColumnDataSource(\n",
    "    df\n",
    ")\n",
    "# cds.data['volume_fraction'] = [ v*5 for v in cds.data['volume_fraction'] ]\n",
    "\n",
    "circles = p2.circle(\n",
    "    source=cds,\n",
    "    x='Sfull',\n",
    "    y='MeanLength',\n",
    "    fill_color='color',\n",
    "    size=20,\n",
    "    fill_alpha=.6\n",
    ")\n",
    "\n",
    "p2.add_tools(\n",
    "    bokeh.models.HoverTool(\n",
    "        tooltips=[\n",
    "            ('S full', '@Sfull'),\n",
    "            ('Avg. Fiber Length (nm)','@MeanLength'),\n",
    "            ('Image Size (um)','@ImageSize'),\n",
    "            ('Process','@Process')\n",
    "        ]\n",
    "    )\n",
    ")\n",
    "\n",
    "images = p2.image_url(\n",
    "    source=cds,\n",
    "    x='Sfull',\n",
    "    y='MeanLength',\n",
    "    w=.01224,\n",
    "    h=20,\n",
    "    url='file_url',\n",
    "    anchor='center',\n",
    "    global_alpha=.001\n",
    ")\n",
    "\n",
    "# mu = [.5]\n",
    "# std = np.sqrt(-1*np.diff(mu)**2/(2*np.log(.2)))\n",
    "\n",
    "p2.x_range.callback = bokeh.models.CustomJS( args= {\n",
    "        'x_axis': p2.x_range,\n",
    "        'y_axis': p2.y_range,\n",
    "        'images': images.glyph,\n",
    "        'cds': cds,\n",
    "    }, \n",
    "    code=coffee.compile(\"\"\"\n",
    "    dx = x_axis.get('end') - x_axis.get('start')\n",
    "    \n",
    "    ddata = Bokeh._.max(cds.get('data')['Sfull']) - Bokeh._.min(cds.get('data')['Sfull'])\n",
    "    \n",
    "    if dx > .0001 * ddata\n",
    "        images.set 'global_alpha', .001 + (.8)*Math.exp( -1*Math.pow(dx-(.0001*ddata),2)/.014)\n",
    "    \"\"\",bare=True)\n",
    ")\n",
    "\n",
    "show(p2)"
   ]
  },
  {
   "cell_type": "code",
   "execution_count": 62,
   "metadata": {
    "collapsed": false,
    "deletable": true,
    "editable": true
   },
   "outputs": [
    {
     "data": {
      "text/plain": [
       "'auto'"
      ]
     },
     "execution_count": 62,
     "metadata": {},
     "output_type": "execute_result"
    }
   ],
   "source": [
    "p.axis[0].bounds"
   ]
  },
  {
   "cell_type": "code",
   "execution_count": 83,
   "metadata": {
    "collapsed": false,
    "deletable": true,
    "editable": true
   },
   "outputs": [],
   "source": [
    "output_file('FiberSpace.html')"
   ]
  },
  {
   "cell_type": "code",
   "execution_count": 8,
   "metadata": {
    "collapsed": false,
    "deletable": true,
    "editable": true
   },
   "outputs": [
    {
     "ename": "NameError",
     "evalue": "name 'p' is not defined",
     "output_type": "error",
     "traceback": [
      "\u001b[0;31m---------------------------------------------------------------------------\u001b[0m",
      "\u001b[0;31mNameError\u001b[0m                                 Traceback (most recent call last)",
      "\u001b[0;32m<ipython-input-8-6a3c2d68899c>\u001b[0m in \u001b[0;36m<module>\u001b[0;34m()\u001b[0m\n\u001b[0;32m----> 1\u001b[0;31m \u001b[0mshow\u001b[0m\u001b[0;34m(\u001b[0m\u001b[0mp\u001b[0m\u001b[0;34m)\u001b[0m\u001b[0;34m\u001b[0m\u001b[0m\n\u001b[0m",
      "\u001b[0;31mNameError\u001b[0m: name 'p' is not defined"
     ]
    }
   ],
   "source": [
    "show(p)"
   ]
  },
  {
   "cell_type": "code",
   "execution_count": null,
   "metadata": {
    "collapsed": true,
    "deletable": true,
    "editable": true
   },
   "outputs": [],
   "source": []
  }
 ],
 "metadata": {
  "kernelspec": {
   "display_name": "Python 2",
   "language": "python",
   "name": "python2"
  },
  "language_info": {
   "codemirror_mode": {
    "name": "ipython",
    "version": 2
   },
   "file_extension": ".py",
   "mimetype": "text/x-python",
   "name": "python",
   "nbconvert_exporter": "python",
   "pygments_lexer": "ipython2",
   "version": "2.7.13"
  },
  "latex_envs": {
   "bibliofile": "biblio.bib",
   "cite_by": "apalike",
   "current_citInitial": 1,
   "eqLabelWithNumbers": true,
   "eqNumInitial": 0
  }
 },
 "nbformat": 4,
 "nbformat_minor": 0
}
